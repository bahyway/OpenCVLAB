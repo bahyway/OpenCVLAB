{
    "metadata": {
        "kernelspec": {
            "name": "SQL",
            "display_name": "SQL",
            "language": "sql"
        },
        "language_info": {
            "name": "sql",
            "version": ""
        }
    },
    "nbformat_minor": 2,
    "nbformat": 4,
    "cells": [
        {
            "cell_type": "markdown",
            "source": [
                "# **Running the Docker Container**\n",
                "\n",
                "## **Run the Docker Container:**\n",
                "\n",
                "Start the container <span style=\"color: #af00db;\">from</span> your newly built image <span style=\"color: #0000ff;\">and</span> <span style=\"color: #795e26;\">map</span> the necessary ports.\n",
                "\n",
                "```\n",
                "docker run -it --rm -p 8888:8888 opencvlab\n",
                "\n",
                "```\n",
                "\n",
                "## **Access Jupyter Notebook:**\n",
                "\n",
                "Once the container <span style=\"color: #0000ff;\">is</span> running, you can access Jupyter Notebook <span style=\"color: #0000ff;\">in</span> your web browser. The URL will be printed <span style=\"color: #0000ff;\">in</span> the terminal, something like http:<span style=\"color: #000000;\">//</span><span style=\"color: #09885a;\">127.0</span>.0.1:<span style=\"color: #09885a;\">8888</span><span style=\"color: #000000;\">/</span><span style=\"color: #cd3131;\">?</span>token<span style=\"color: #000000;\">=</span>....\n",
                "\n",
                "## **Testing Your Setup**\n",
                "\n",
                "Verify Installed Packages:\n",
                "\n",
                "Open a new notebook <span style=\"color: #0000ff;\">in</span> Jupyter <span style=\"color: #0000ff;\">and</span> run the following code to ensure <span style=\"color: #795e26;\">all</span> necessary packages are installed <span style=\"color: #0000ff;\">and</span> working:"
            ],
            "metadata": {
                "azdata_cell_guid": "c35990df-7957-44a6-886d-92729a7455f1"
            },
            "attachments": {}
        },
        {
            "cell_type": "code",
            "source": [
                "import numpy as np\n",
                "import matplotlib.pyplot as plt\n",
                "import tensorflow as tf\n",
                "import keras\n",
                "import torch\n",
                "import torchvision\n",
                "import scipy\n",
                "import PIL\n",
                "import sklearn\n",
                "\n",
                "print(\"Numpy:\", np.__version__)\n",
                "print(\"Matplotlib:\", plt.__version__)\n",
                "print(\"TensorFlow:\", tf.__version__)\n",
                "print(\"Keras:\", keras.__version__)\n",
                "print(\"PyTorch:\", torch.__version__)\n",
                "print(\"TorchVision:\", torchvision.__version__)\n",
                "print(\"SciPy:\", scipy.__version__)\n",
                "print(\"Pillow:\", PIL.__version__)\n",
                "print(\"Scikit-Learn:\", sklearn.__version__)\n",
                ""
            ],
            "metadata": {
                "azdata_cell_guid": "74496ee7-d313-4872-80f8-992bd618e3d6",
                "language": "sql"
            },
            "outputs": [],
            "execution_count": null
        },
        {
            "cell_type": "markdown",
            "source": [
                "## <span style=\"font-size: 12px; white-space: pre;\"><b>docker run -it --rm -p 8888:8888 -v opencvlab_data:/app opencvlab</b></span>**Run Some Example Code:**\n",
                "\n",
                "Test some basic functionality of each library to ensure they are working <span style=\"color: #af00db;\">as</span> expected.\n",
                "\n",
                "### **Using Docker Volume <span style=\"color: #af00db;\">for</span> Persistent Storage**\n",
                "\n",
                "**Create a Docker Volume:**\n",
                "\n",
                "**To persist your Jupyter notebooks <span style=\"color: #0000ff;\">and</span> other files, create a Docker volume:**\n",
                "\n",
                "  \n",
                "```\n",
                "docker volume create opencvlab_data\n",
                "```\n",
                "\n",
                "### **Run the Docker Container <span style=\"color: #af00db;\">with</span> Volume:**\n",
                "\n",
                "Mount the volume to your container so that your work <span style=\"color: #0000ff;\">is</span> saved:\n",
                "\n",
                "  \n",
                "```\n",
                "docker run -it --rm -p 8888:8888 -v opencvlab_data:/app opencvlab\n",
                "```\n",
                "\n",
                "Viewing Image Vulnerabilities\n",
                "\n",
                "Use Docker Scout Quickview:\n",
                "\n",
                "Docker Scout Quickview provides a summary of image vulnerabilities <span style=\"color: #0000ff;\">and</span> recommendations. Run the following command to view a summary:\n",
                "\n",
                "  \n",
                "\n",
                "docker scout quickview opencvlab\n",
                "\n",
                "  \n",
                "\n",
                "## **Next Steps**\n",
                "\n",
                "Develop <span style=\"color: #0000ff;\">and</span> Test Your Projects:\n",
                "\n",
                "  \n",
                "\n",
                "You can now use this environment to develop <span style=\"color: #0000ff;\">and</span> test your OpenCV <span style=\"color: #0000ff;\">and</span> deep learning projects.\n",
                "\n",
                "Customize Further <span style=\"color: #af00db;\">if</span> Needed:\n",
                "\n",
                "  \n",
                "\n",
                "If you need additional libraries <span style=\"color: #0000ff;\">or</span> tools, you can modify the environment.yml <span style=\"color: #0000ff;\">or</span> the Dockerfile <span style=\"color: #0000ff;\">and</span> rebuild the image.\n",
                "\n",
                "By following these steps, you should be able to effectively use your new Docker environment <span style=\"color: #af00db;\">for</span> your OpenCV <span style=\"color: #0000ff;\">and</span> deep learning projects. If you encounter <span style=\"color: #795e26;\">any</span> issues <span style=\"color: #0000ff;\">or</span> have further questions, feel free to ask!"
            ],
            "metadata": {
                "azdata_cell_guid": "a5503b3b-2586-45c2-a462-e1e795c913a3"
            },
            "attachments": {}
        }
    ]
}